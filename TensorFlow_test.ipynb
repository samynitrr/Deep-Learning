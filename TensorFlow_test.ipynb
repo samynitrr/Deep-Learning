{
 "cells": [
  {
   "cell_type": "code",
   "execution_count": 1,
   "metadata": {},
   "outputs": [],
   "source": [
    "import tensorflow as tf"
   ]
  },
  {
   "cell_type": "code",
   "execution_count": 2,
   "metadata": {},
   "outputs": [
    {
     "data": {
      "text/plain": [
       "'2.9.2'"
      ]
     },
     "execution_count": 2,
     "metadata": {},
     "output_type": "execute_result"
    }
   ],
   "source": [
    "tf.__version__"
   ]
  },
  {
   "cell_type": "code",
   "execution_count": 3,
   "metadata": {},
   "outputs": [
    {
     "data": {
      "text/plain": [
       "[PhysicalDevice(name='/physical_device:CPU:0', device_type='CPU'),\n",
       " PhysicalDevice(name='/physical_device:GPU:0', device_type='GPU')]"
      ]
     },
     "execution_count": 3,
     "metadata": {},
     "output_type": "execute_result"
    }
   ],
   "source": [
    "tf.config.list_physical_devices()"
   ]
  },
  {
   "cell_type": "code",
   "execution_count": 4,
   "metadata": {},
   "outputs": [
    {
     "name": "stdout",
     "output_type": "stream",
     "text": [
      "Metal device set to: Apple M1\n",
      "\n",
      "systemMemory: 16.00 GB\n",
      "maxCacheSize: 5.33 GB\n",
      "\n"
     ]
    },
    {
     "name": "stderr",
     "output_type": "stream",
     "text": [
      "2022-08-20 16:28:12.618030: I tensorflow/core/common_runtime/pluggable_device/pluggable_device_factory.cc:305] Could not identify NUMA node of platform GPU ID 0, defaulting to 0. Your kernel may not have been built with NUMA support.\n",
      "2022-08-20 16:28:12.618784: I tensorflow/core/common_runtime/pluggable_device/pluggable_device_factory.cc:271] Created TensorFlow device (/job:localhost/replica:0/task:0/device:GPU:0 with 0 MB memory) -> physical PluggableDevice (device: 0, name: METAL, pci bus id: <undefined>)\n"
     ]
    }
   ],
   "source": [
    "import numpy as np\n",
    "\n",
    "X = np.arange(1,101, step=0.1)\n",
    "y = [x+10 for x in X]\n",
    "\n",
    "X=tf.cast(tf.constant(X), dtype=tf.float32)\n",
    "y=tf.cast(tf.constant(y), dtype=tf.float32)"
   ]
  },
  {
   "cell_type": "code",
   "execution_count": 5,
   "metadata": {},
   "outputs": [
    {
     "name": "stdout",
     "output_type": "stream",
     "text": [
      "Epoch 1/100\n"
     ]
    },
    {
     "name": "stderr",
     "output_type": "stream",
     "text": [
      "2022-08-20 16:28:16.590765: W tensorflow/core/platform/profile_utils/cpu_utils.cc:128] Failed to get CPU frequency: 0 Hz\n",
      "2022-08-20 16:28:16.906218: I tensorflow/core/grappler/optimizers/custom_graph_optimizer_registry.cc:113] Plugin optimizer for device_type GPU is enabled.\n"
     ]
    },
    {
     "name": "stdout",
     "output_type": "stream",
     "text": [
      "32/32 [==============================] - 2s 14ms/step - loss: 23.4820 - mean_absolute_error: 23.4820\n",
      "Epoch 2/100\n",
      "32/32 [==============================] - 0s 7ms/step - loss: 3.1411 - mean_absolute_error: 3.1411\n",
      "Epoch 3/100\n",
      "32/32 [==============================] - 0s 7ms/step - loss: 5.3846 - mean_absolute_error: 5.3846\n",
      "Epoch 4/100\n",
      "32/32 [==============================] - 0s 7ms/step - loss: 8.1689 - mean_absolute_error: 8.1689\n",
      "Epoch 5/100\n",
      "32/32 [==============================] - 0s 8ms/step - loss: 5.0340 - mean_absolute_error: 5.0340\n",
      "Epoch 6/100\n",
      "32/32 [==============================] - 0s 7ms/step - loss: 9.8263 - mean_absolute_error: 9.8263\n",
      "Epoch 7/100\n",
      "32/32 [==============================] - 0s 7ms/step - loss: 3.0670 - mean_absolute_error: 3.0670\n",
      "Epoch 8/100\n",
      "32/32 [==============================] - 0s 7ms/step - loss: 6.6740 - mean_absolute_error: 6.6740\n",
      "Epoch 9/100\n",
      "32/32 [==============================] - 0s 7ms/step - loss: 3.5362 - mean_absolute_error: 3.5362\n",
      "Epoch 10/100\n",
      "32/32 [==============================] - 0s 7ms/step - loss: 3.8108 - mean_absolute_error: 3.8108\n",
      "Epoch 11/100\n",
      "32/32 [==============================] - 0s 7ms/step - loss: 3.7164 - mean_absolute_error: 3.7164\n",
      "Epoch 12/100\n",
      "32/32 [==============================] - 0s 7ms/step - loss: 4.0641 - mean_absolute_error: 4.0641\n",
      "Epoch 13/100\n",
      "32/32 [==============================] - 0s 7ms/step - loss: 3.0840 - mean_absolute_error: 3.0840\n",
      "Epoch 14/100\n",
      "32/32 [==============================] - 0s 7ms/step - loss: 3.7556 - mean_absolute_error: 3.7556\n",
      "Epoch 15/100\n",
      "32/32 [==============================] - 0s 7ms/step - loss: 2.7073 - mean_absolute_error: 2.7073\n",
      "Epoch 16/100\n",
      "32/32 [==============================] - 0s 8ms/step - loss: 5.4500 - mean_absolute_error: 5.4500\n",
      "Epoch 17/100\n",
      "32/32 [==============================] - 0s 7ms/step - loss: 2.9296 - mean_absolute_error: 2.9296\n",
      "Epoch 18/100\n",
      "32/32 [==============================] - 0s 7ms/step - loss: 2.0771 - mean_absolute_error: 2.0771\n",
      "Epoch 19/100\n",
      "32/32 [==============================] - 0s 7ms/step - loss: 1.9946 - mean_absolute_error: 1.9946\n",
      "Epoch 20/100\n",
      "32/32 [==============================] - 0s 7ms/step - loss: 3.1598 - mean_absolute_error: 3.1598\n",
      "Epoch 21/100\n",
      "32/32 [==============================] - 0s 7ms/step - loss: 3.9800 - mean_absolute_error: 3.9800\n",
      "Epoch 22/100\n",
      "32/32 [==============================] - 0s 7ms/step - loss: 5.5213 - mean_absolute_error: 5.5213\n",
      "Epoch 23/100\n",
      "32/32 [==============================] - 0s 7ms/step - loss: 3.5540 - mean_absolute_error: 3.5540\n",
      "Epoch 24/100\n",
      "32/32 [==============================] - 0s 7ms/step - loss: 4.0486 - mean_absolute_error: 4.0486\n",
      "Epoch 25/100\n",
      "32/32 [==============================] - 0s 7ms/step - loss: 3.5693 - mean_absolute_error: 3.5693\n",
      "Epoch 26/100\n",
      "32/32 [==============================] - 0s 7ms/step - loss: 2.6209 - mean_absolute_error: 2.6209\n",
      "Epoch 27/100\n",
      "32/32 [==============================] - 0s 7ms/step - loss: 1.6199 - mean_absolute_error: 1.6199\n",
      "Epoch 28/100\n",
      "32/32 [==============================] - 0s 7ms/step - loss: 1.5929 - mean_absolute_error: 1.5929\n",
      "Epoch 29/100\n",
      "32/32 [==============================] - 0s 7ms/step - loss: 3.5533 - mean_absolute_error: 3.5533\n",
      "Epoch 30/100\n",
      "32/32 [==============================] - 0s 7ms/step - loss: 2.2598 - mean_absolute_error: 2.2598\n",
      "Epoch 31/100\n",
      "32/32 [==============================] - 0s 7ms/step - loss: 3.8508 - mean_absolute_error: 3.8508\n",
      "Epoch 32/100\n",
      "32/32 [==============================] - 0s 7ms/step - loss: 7.0500 - mean_absolute_error: 7.0500\n",
      "Epoch 33/100\n",
      "32/32 [==============================] - 0s 7ms/step - loss: 7.4854 - mean_absolute_error: 7.4854\n",
      "Epoch 34/100\n",
      "32/32 [==============================] - 0s 7ms/step - loss: 4.2075 - mean_absolute_error: 4.2075\n",
      "Epoch 35/100\n",
      "32/32 [==============================] - 0s 7ms/step - loss: 2.4332 - mean_absolute_error: 2.4332\n",
      "Epoch 36/100\n",
      "32/32 [==============================] - 0s 7ms/step - loss: 3.0021 - mean_absolute_error: 3.0021\n",
      "Epoch 37/100\n",
      "32/32 [==============================] - 0s 7ms/step - loss: 2.4541 - mean_absolute_error: 2.4541\n",
      "Epoch 38/100\n",
      "32/32 [==============================] - 0s 7ms/step - loss: 3.2748 - mean_absolute_error: 3.2748\n",
      "Epoch 39/100\n",
      "32/32 [==============================] - 0s 7ms/step - loss: 2.3593 - mean_absolute_error: 2.3593\n",
      "Epoch 40/100\n",
      "32/32 [==============================] - 0s 7ms/step - loss: 4.8204 - mean_absolute_error: 4.8204\n",
      "Epoch 41/100\n",
      "32/32 [==============================] - 0s 7ms/step - loss: 3.3862 - mean_absolute_error: 3.3862\n",
      "Epoch 42/100\n",
      "32/32 [==============================] - 0s 7ms/step - loss: 1.7256 - mean_absolute_error: 1.7256\n",
      "Epoch 43/100\n",
      "32/32 [==============================] - 0s 7ms/step - loss: 4.6802 - mean_absolute_error: 4.6802\n",
      "Epoch 44/100\n",
      "32/32 [==============================] - 0s 7ms/step - loss: 5.1259 - mean_absolute_error: 5.1259\n",
      "Epoch 45/100\n",
      "32/32 [==============================] - 0s 7ms/step - loss: 3.0007 - mean_absolute_error: 3.0007\n",
      "Epoch 46/100\n",
      "32/32 [==============================] - 0s 7ms/step - loss: 2.4946 - mean_absolute_error: 2.4946\n",
      "Epoch 47/100\n",
      "32/32 [==============================] - 0s 7ms/step - loss: 1.8019 - mean_absolute_error: 1.8019\n",
      "Epoch 48/100\n",
      "32/32 [==============================] - 0s 7ms/step - loss: 1.9952 - mean_absolute_error: 1.9952\n",
      "Epoch 49/100\n",
      "32/32 [==============================] - 0s 7ms/step - loss: 5.2441 - mean_absolute_error: 5.2441\n",
      "Epoch 50/100\n",
      "32/32 [==============================] - 0s 7ms/step - loss: 3.5868 - mean_absolute_error: 3.5868\n",
      "Epoch 51/100\n",
      "32/32 [==============================] - 0s 7ms/step - loss: 2.6605 - mean_absolute_error: 2.6605\n",
      "Epoch 52/100\n",
      "32/32 [==============================] - 0s 7ms/step - loss: 1.9788 - mean_absolute_error: 1.9788\n",
      "Epoch 53/100\n",
      "32/32 [==============================] - 0s 7ms/step - loss: 1.7198 - mean_absolute_error: 1.7198\n",
      "Epoch 54/100\n",
      "32/32 [==============================] - 0s 7ms/step - loss: 1.7936 - mean_absolute_error: 1.7936\n",
      "Epoch 55/100\n",
      "32/32 [==============================] - 0s 7ms/step - loss: 4.5460 - mean_absolute_error: 4.5460\n",
      "Epoch 56/100\n",
      "32/32 [==============================] - 0s 7ms/step - loss: 4.3683 - mean_absolute_error: 4.3683\n",
      "Epoch 57/100\n",
      "32/32 [==============================] - 0s 7ms/step - loss: 3.1244 - mean_absolute_error: 3.1244\n",
      "Epoch 58/100\n",
      "32/32 [==============================] - 0s 7ms/step - loss: 3.6868 - mean_absolute_error: 3.6868\n",
      "Epoch 59/100\n",
      "32/32 [==============================] - 0s 8ms/step - loss: 1.4568 - mean_absolute_error: 1.4568\n",
      "Epoch 60/100\n",
      "32/32 [==============================] - 0s 7ms/step - loss: 2.7343 - mean_absolute_error: 2.7343\n",
      "Epoch 61/100\n",
      "32/32 [==============================] - 0s 7ms/step - loss: 2.7751 - mean_absolute_error: 2.7751\n",
      "Epoch 62/100\n",
      "32/32 [==============================] - 0s 8ms/step - loss: 2.8183 - mean_absolute_error: 2.8183\n",
      "Epoch 63/100\n",
      "32/32 [==============================] - 0s 7ms/step - loss: 4.0935 - mean_absolute_error: 4.0935\n",
      "Epoch 64/100\n",
      "32/32 [==============================] - 0s 7ms/step - loss: 1.1929 - mean_absolute_error: 1.1929\n",
      "Epoch 65/100\n",
      "32/32 [==============================] - 0s 7ms/step - loss: 2.2161 - mean_absolute_error: 2.2161\n",
      "Epoch 66/100\n",
      "32/32 [==============================] - 0s 7ms/step - loss: 2.6303 - mean_absolute_error: 2.6303\n",
      "Epoch 67/100\n",
      "32/32 [==============================] - 0s 7ms/step - loss: 2.5718 - mean_absolute_error: 2.5718\n",
      "Epoch 68/100\n",
      "32/32 [==============================] - 0s 7ms/step - loss: 2.5643 - mean_absolute_error: 2.5643\n",
      "Epoch 69/100\n",
      "32/32 [==============================] - 0s 7ms/step - loss: 5.3920 - mean_absolute_error: 5.3920\n",
      "Epoch 70/100\n",
      "32/32 [==============================] - 0s 7ms/step - loss: 5.3958 - mean_absolute_error: 5.3958\n",
      "Epoch 71/100\n",
      "32/32 [==============================] - 0s 7ms/step - loss: 2.9954 - mean_absolute_error: 2.9954\n",
      "Epoch 72/100\n",
      "32/32 [==============================] - 0s 7ms/step - loss: 1.3534 - mean_absolute_error: 1.3534\n",
      "Epoch 73/100\n",
      "32/32 [==============================] - 0s 7ms/step - loss: 2.5151 - mean_absolute_error: 2.5151\n",
      "Epoch 74/100\n",
      "32/32 [==============================] - 0s 7ms/step - loss: 2.2409 - mean_absolute_error: 2.2409\n",
      "Epoch 75/100\n",
      "32/32 [==============================] - 0s 7ms/step - loss: 2.4539 - mean_absolute_error: 2.4539\n",
      "Epoch 76/100\n",
      "32/32 [==============================] - 0s 7ms/step - loss: 1.5747 - mean_absolute_error: 1.5747\n",
      "Epoch 77/100\n",
      "32/32 [==============================] - 0s 7ms/step - loss: 2.6340 - mean_absolute_error: 2.6340\n",
      "Epoch 78/100\n",
      "32/32 [==============================] - 0s 7ms/step - loss: 1.2767 - mean_absolute_error: 1.2767\n",
      "Epoch 79/100\n",
      "32/32 [==============================] - 0s 7ms/step - loss: 1.6438 - mean_absolute_error: 1.6438\n",
      "Epoch 80/100\n",
      "32/32 [==============================] - 0s 7ms/step - loss: 3.4018 - mean_absolute_error: 3.4018\n",
      "Epoch 81/100\n",
      "32/32 [==============================] - 0s 7ms/step - loss: 2.6678 - mean_absolute_error: 2.6678\n",
      "Epoch 82/100\n",
      "32/32 [==============================] - 0s 7ms/step - loss: 4.6657 - mean_absolute_error: 4.6657\n",
      "Epoch 83/100\n",
      "32/32 [==============================] - 0s 7ms/step - loss: 2.4164 - mean_absolute_error: 2.4164\n",
      "Epoch 84/100\n",
      "32/32 [==============================] - 0s 7ms/step - loss: 1.5704 - mean_absolute_error: 1.5704\n",
      "Epoch 85/100\n",
      "32/32 [==============================] - 0s 7ms/step - loss: 2.2876 - mean_absolute_error: 2.2876\n",
      "Epoch 86/100\n",
      "32/32 [==============================] - 0s 7ms/step - loss: 1.2600 - mean_absolute_error: 1.2600\n",
      "Epoch 87/100\n",
      "32/32 [==============================] - 0s 7ms/step - loss: 2.4798 - mean_absolute_error: 2.4798\n",
      "Epoch 88/100\n",
      "32/32 [==============================] - 0s 7ms/step - loss: 1.8686 - mean_absolute_error: 1.8686\n",
      "Epoch 89/100\n",
      "32/32 [==============================] - 0s 7ms/step - loss: 1.8298 - mean_absolute_error: 1.8298\n",
      "Epoch 90/100\n",
      "32/32 [==============================] - 0s 7ms/step - loss: 1.1626 - mean_absolute_error: 1.1626\n",
      "Epoch 91/100\n",
      "32/32 [==============================] - 0s 7ms/step - loss: 1.2940 - mean_absolute_error: 1.2940\n",
      "Epoch 92/100\n",
      "32/32 [==============================] - 0s 7ms/step - loss: 3.3082 - mean_absolute_error: 3.3082\n",
      "Epoch 93/100\n",
      "32/32 [==============================] - 0s 7ms/step - loss: 4.4809 - mean_absolute_error: 4.4809\n",
      "Epoch 94/100\n",
      "32/32 [==============================] - 0s 7ms/step - loss: 2.2236 - mean_absolute_error: 2.2236\n",
      "Epoch 95/100\n",
      "32/32 [==============================] - 0s 7ms/step - loss: 1.8342 - mean_absolute_error: 1.8342\n",
      "Epoch 96/100\n",
      "32/32 [==============================] - 0s 7ms/step - loss: 2.3139 - mean_absolute_error: 2.3139\n",
      "Epoch 97/100\n",
      "32/32 [==============================] - 0s 7ms/step - loss: 3.2749 - mean_absolute_error: 3.2749\n",
      "Epoch 98/100\n",
      "32/32 [==============================] - 0s 7ms/step - loss: 2.0676 - mean_absolute_error: 2.0676\n",
      "Epoch 99/100\n",
      "32/32 [==============================] - 0s 7ms/step - loss: 2.5459 - mean_absolute_error: 2.5459\n",
      "Epoch 100/100\n",
      "32/32 [==============================] - 0s 7ms/step - loss: 1.3875 - mean_absolute_error: 1.3875\n"
     ]
    },
    {
     "data": {
      "text/plain": [
       "<keras.callbacks.History at 0x16a2bbb20>"
      ]
     },
     "execution_count": 5,
     "metadata": {},
     "output_type": "execute_result"
    }
   ],
   "source": [
    "model=tf.keras.Sequential([\n",
    "    tf.keras.layers.Dense(64, input_shape=(1,), activation='relu'), # input layer\n",
    "    tf.keras.layers.Dense(64, activation='relu'), # hidden layer\n",
    "    tf.keras.layers.Dense(1) # output layer\n",
    "])\n",
    "\n",
    "model.compile(\n",
    "    loss=tf.keras.losses.mean_absolute_error,\n",
    "    optimizer=tf.keras.optimizers.Adam(learning_rate=0.1),\n",
    "    metrics=['mean_absolute_error']\n",
    ")\n",
    "\n",
    "model.fit(X,y, epochs=100)"
   ]
  },
  {
   "cell_type": "code",
   "execution_count": 6,
   "metadata": {},
   "outputs": [
    {
     "name": "stdout",
     "output_type": "stream",
     "text": [
      "1/1 [==============================] - 0s 206ms/step\n"
     ]
    },
    {
     "name": "stderr",
     "output_type": "stream",
     "text": [
      "2022-08-20 16:28:45.991572: I tensorflow/core/grappler/optimizers/custom_graph_optimizer_registry.cc:113] Plugin optimizer for device_type GPU is enabled.\n"
     ]
    },
    {
     "data": {
      "text/plain": [
       "array([[20.63847 ],\n",
       "       [31.206802],\n",
       "       [41.694542]], dtype=float32)"
      ]
     },
     "execution_count": 6,
     "metadata": {},
     "output_type": "execute_result"
    }
   ],
   "source": [
    "model.predict([10,20,30]) #correct output [20,30,40]"
   ]
  },
  {
   "cell_type": "code",
   "execution_count": null,
   "metadata": {},
   "outputs": [],
   "source": []
  },
  {
   "cell_type": "code",
   "execution_count": null,
   "metadata": {},
   "outputs": [],
   "source": []
  },
  {
   "cell_type": "code",
   "execution_count": null,
   "metadata": {},
   "outputs": [],
   "source": []
  }
 ],
 "metadata": {
  "kernelspec": {
   "display_name": "Python 3.10.5 ('tf')",
   "language": "python",
   "name": "python3"
  },
  "language_info": {
   "codemirror_mode": {
    "name": "ipython",
    "version": 3
   },
   "file_extension": ".py",
   "mimetype": "text/x-python",
   "name": "python",
   "nbconvert_exporter": "python",
   "pygments_lexer": "ipython3",
   "version": "3.10.5"
  },
  "orig_nbformat": 4,
  "vscode": {
   "interpreter": {
    "hash": "52ee2977380704a66854748a73250e0671a9318bd5b3fd45a3df9f851ae61629"
   }
  }
 },
 "nbformat": 4,
 "nbformat_minor": 2
}
