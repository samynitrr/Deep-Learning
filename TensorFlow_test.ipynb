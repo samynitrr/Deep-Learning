{
 "cells": [
  {
   "cell_type": "code",
   "execution_count": 1,
   "metadata": {},
   "outputs": [],
   "source": [
    "import tensorflow as tf"
   ]
  },
  {
   "cell_type": "code",
   "execution_count": 3,
   "metadata": {},
   "outputs": [
    {
     "data": {
      "text/plain": [
       "'2.9.2'"
      ]
     },
     "execution_count": 3,
     "metadata": {},
     "output_type": "execute_result"
    }
   ],
   "source": [
    "tf.__version__"
   ]
  },
  {
   "cell_type": "code",
   "execution_count": 4,
   "metadata": {},
   "outputs": [
    {
     "data": {
      "text/plain": [
       "[PhysicalDevice(name='/physical_device:CPU:0', device_type='CPU'),\n",
       " PhysicalDevice(name='/physical_device:GPU:0', device_type='GPU')]"
      ]
     },
     "execution_count": 4,
     "metadata": {},
     "output_type": "execute_result"
    }
   ],
   "source": [
    "tf.config.list_physical_devices()"
   ]
  },
  {
   "cell_type": "code",
   "execution_count": 10,
   "metadata": {},
   "outputs": [],
   "source": [
    "import numpy as np\n",
    "\n",
    "X = np.arange(1,101, step=0.1)\n",
    "y = [x+10 for x in X]\n",
    "\n",
    "X=tf.cast(tf.constant(X), dtype=tf.float32)\n",
    "y=tf.cast(tf.constant(y), dtype=tf.float32)"
   ]
  },
  {
   "cell_type": "code",
   "execution_count": 11,
   "metadata": {},
   "outputs": [
    {
     "name": "stdout",
     "output_type": "stream",
     "text": [
      "Epoch 1/100\n",
      " 1/32 [..............................] - ETA: 21s - loss: 63.7615 - mean_absolute_error: 63.7615"
     ]
    },
    {
     "name": "stderr",
     "output_type": "stream",
     "text": [
      "2022-08-21 10:22:53.162667: I tensorflow/core/grappler/optimizers/custom_graph_optimizer_registry.cc:113] Plugin optimizer for device_type GPU is enabled.\n"
     ]
    },
    {
     "name": "stdout",
     "output_type": "stream",
     "text": [
      "32/32 [==============================] - 1s 9ms/step - loss: 12.6705 - mean_absolute_error: 12.6705\n",
      "Epoch 2/100\n",
      "32/32 [==============================] - 0s 7ms/step - loss: 10.2848 - mean_absolute_error: 10.2848\n",
      "Epoch 3/100\n",
      "32/32 [==============================] - 0s 9ms/step - loss: 4.7165 - mean_absolute_error: 4.7165\n",
      "Epoch 4/100\n",
      "32/32 [==============================] - 0s 8ms/step - loss: 7.5192 - mean_absolute_error: 7.5192\n",
      "Epoch 5/100\n",
      "32/32 [==============================] - 0s 8ms/step - loss: 8.1668 - mean_absolute_error: 8.1668\n",
      "Epoch 6/100\n",
      "32/32 [==============================] - 0s 9ms/step - loss: 4.4312 - mean_absolute_error: 4.4312\n",
      "Epoch 7/100\n",
      "32/32 [==============================] - 0s 8ms/step - loss: 7.6385 - mean_absolute_error: 7.6385\n",
      "Epoch 8/100\n",
      "32/32 [==============================] - 0s 8ms/step - loss: 3.0676 - mean_absolute_error: 3.0676\n",
      "Epoch 9/100\n",
      "32/32 [==============================] - 0s 7ms/step - loss: 4.1072 - mean_absolute_error: 4.1072\n",
      "Epoch 10/100\n",
      "32/32 [==============================] - 0s 9ms/step - loss: 3.4941 - mean_absolute_error: 3.4941\n",
      "Epoch 11/100\n",
      "32/32 [==============================] - 0s 8ms/step - loss: 2.8707 - mean_absolute_error: 2.8707\n",
      "Epoch 12/100\n",
      "32/32 [==============================] - 0s 8ms/step - loss: 8.3979 - mean_absolute_error: 8.3979\n",
      "Epoch 13/100\n",
      "32/32 [==============================] - 0s 11ms/step - loss: 5.2301 - mean_absolute_error: 5.2301\n",
      "Epoch 14/100\n",
      "32/32 [==============================] - 0s 14ms/step - loss: 2.2799 - mean_absolute_error: 2.2799\n",
      "Epoch 15/100\n",
      "32/32 [==============================] - 0s 8ms/step - loss: 1.8658 - mean_absolute_error: 1.8658\n",
      "Epoch 16/100\n",
      "32/32 [==============================] - 0s 8ms/step - loss: 2.1759 - mean_absolute_error: 2.1759\n",
      "Epoch 17/100\n",
      "32/32 [==============================] - 0s 7ms/step - loss: 5.8096 - mean_absolute_error: 5.8096\n",
      "Epoch 18/100\n",
      "32/32 [==============================] - 0s 7ms/step - loss: 2.2341 - mean_absolute_error: 2.2341\n",
      "Epoch 19/100\n",
      "32/32 [==============================] - 0s 9ms/step - loss: 3.2423 - mean_absolute_error: 3.2423\n",
      "Epoch 20/100\n",
      "32/32 [==============================] - 0s 8ms/step - loss: 2.3163 - mean_absolute_error: 2.3163\n",
      "Epoch 21/100\n",
      "32/32 [==============================] - 0s 7ms/step - loss: 3.0411 - mean_absolute_error: 3.0411\n",
      "Epoch 22/100\n",
      "32/32 [==============================] - 0s 7ms/step - loss: 3.5572 - mean_absolute_error: 3.5572\n",
      "Epoch 23/100\n",
      "32/32 [==============================] - 0s 9ms/step - loss: 4.1706 - mean_absolute_error: 4.1706\n",
      "Epoch 24/100\n",
      "32/32 [==============================] - 0s 7ms/step - loss: 4.5928 - mean_absolute_error: 4.5928\n",
      "Epoch 25/100\n",
      "32/32 [==============================] - 0s 7ms/step - loss: 2.5280 - mean_absolute_error: 2.5280\n",
      "Epoch 26/100\n",
      "32/32 [==============================] - 0s 7ms/step - loss: 3.8272 - mean_absolute_error: 3.8272\n",
      "Epoch 27/100\n",
      "32/32 [==============================] - 0s 7ms/step - loss: 3.6084 - mean_absolute_error: 3.6084\n",
      "Epoch 28/100\n",
      "32/32 [==============================] - 0s 8ms/step - loss: 2.1350 - mean_absolute_error: 2.1350\n",
      "Epoch 29/100\n",
      "32/32 [==============================] - 0s 7ms/step - loss: 2.8740 - mean_absolute_error: 2.8740\n",
      "Epoch 30/100\n",
      "32/32 [==============================] - 0s 7ms/step - loss: 3.9694 - mean_absolute_error: 3.9694\n",
      "Epoch 31/100\n",
      "32/32 [==============================] - 0s 7ms/step - loss: 2.1285 - mean_absolute_error: 2.1285\n",
      "Epoch 32/100\n",
      "32/32 [==============================] - 0s 7ms/step - loss: 1.5678 - mean_absolute_error: 1.5678\n",
      "Epoch 33/100\n",
      "32/32 [==============================] - 0s 9ms/step - loss: 2.1001 - mean_absolute_error: 2.1001\n",
      "Epoch 34/100\n",
      "32/32 [==============================] - 0s 8ms/step - loss: 1.7107 - mean_absolute_error: 1.7107\n",
      "Epoch 35/100\n",
      "32/32 [==============================] - 0s 7ms/step - loss: 1.9019 - mean_absolute_error: 1.9019\n",
      "Epoch 36/100\n",
      "32/32 [==============================] - 0s 7ms/step - loss: 2.3825 - mean_absolute_error: 2.3825\n",
      "Epoch 37/100\n",
      "32/32 [==============================] - 0s 11ms/step - loss: 2.7895 - mean_absolute_error: 2.7895\n",
      "Epoch 38/100\n",
      "32/32 [==============================] - 0s 12ms/step - loss: 2.3976 - mean_absolute_error: 2.3976\n",
      "Epoch 39/100\n",
      "32/32 [==============================] - 0s 14ms/step - loss: 1.5670 - mean_absolute_error: 1.5670\n",
      "Epoch 40/100\n",
      "32/32 [==============================] - 0s 9ms/step - loss: 2.8707 - mean_absolute_error: 2.8707\n",
      "Epoch 41/100\n",
      "32/32 [==============================] - 0s 8ms/step - loss: 3.0168 - mean_absolute_error: 3.0168\n",
      "Epoch 42/100\n",
      "32/32 [==============================] - 0s 8ms/step - loss: 3.1130 - mean_absolute_error: 3.1130\n",
      "Epoch 43/100\n",
      "32/32 [==============================] - 0s 9ms/step - loss: 4.1043 - mean_absolute_error: 4.1043\n",
      "Epoch 44/100\n",
      "32/32 [==============================] - 0s 8ms/step - loss: 1.5210 - mean_absolute_error: 1.5210\n",
      "Epoch 45/100\n",
      "32/32 [==============================] - 0s 7ms/step - loss: 4.5178 - mean_absolute_error: 4.5178\n",
      "Epoch 46/100\n",
      "32/32 [==============================] - 0s 9ms/step - loss: 2.7877 - mean_absolute_error: 2.7877\n",
      "Epoch 47/100\n",
      "32/32 [==============================] - 0s 8ms/step - loss: 1.4659 - mean_absolute_error: 1.4659\n",
      "Epoch 48/100\n",
      "32/32 [==============================] - 0s 7ms/step - loss: 1.5340 - mean_absolute_error: 1.5340\n",
      "Epoch 49/100\n",
      "32/32 [==============================] - 0s 9ms/step - loss: 1.1106 - mean_absolute_error: 1.1106\n",
      "Epoch 50/100\n",
      "32/32 [==============================] - 0s 8ms/step - loss: 2.6296 - mean_absolute_error: 2.6296\n",
      "Epoch 51/100\n",
      "32/32 [==============================] - 0s 7ms/step - loss: 3.1929 - mean_absolute_error: 3.1929\n",
      "Epoch 52/100\n",
      "32/32 [==============================] - 0s 9ms/step - loss: 2.8970 - mean_absolute_error: 2.8970\n",
      "Epoch 53/100\n",
      "32/32 [==============================] - 0s 8ms/step - loss: 1.5993 - mean_absolute_error: 1.5993\n",
      "Epoch 54/100\n",
      "32/32 [==============================] - 0s 8ms/step - loss: 2.6630 - mean_absolute_error: 2.6630\n",
      "Epoch 55/100\n",
      "32/32 [==============================] - 0s 8ms/step - loss: 2.3768 - mean_absolute_error: 2.3768\n",
      "Epoch 56/100\n",
      "32/32 [==============================] - 0s 10ms/step - loss: 2.1848 - mean_absolute_error: 2.1848\n",
      "Epoch 57/100\n",
      "32/32 [==============================] - 0s 8ms/step - loss: 1.9479 - mean_absolute_error: 1.9479\n",
      "Epoch 58/100\n",
      "32/32 [==============================] - 0s 7ms/step - loss: 2.7806 - mean_absolute_error: 2.7806\n",
      "Epoch 59/100\n",
      "32/32 [==============================] - 0s 8ms/step - loss: 1.7838 - mean_absolute_error: 1.7838\n",
      "Epoch 60/100\n",
      "32/32 [==============================] - 0s 7ms/step - loss: 2.3271 - mean_absolute_error: 2.3271\n",
      "Epoch 61/100\n",
      "32/32 [==============================] - 0s 7ms/step - loss: 4.0762 - mean_absolute_error: 4.0762\n",
      "Epoch 62/100\n",
      "32/32 [==============================] - 0s 7ms/step - loss: 3.3560 - mean_absolute_error: 3.3560\n",
      "Epoch 63/100\n",
      "32/32 [==============================] - 0s 8ms/step - loss: 4.1412 - mean_absolute_error: 4.1412\n",
      "Epoch 64/100\n",
      "32/32 [==============================] - 0s 7ms/step - loss: 2.9032 - mean_absolute_error: 2.9032\n",
      "Epoch 65/100\n",
      "32/32 [==============================] - 0s 7ms/step - loss: 2.6736 - mean_absolute_error: 2.6736\n",
      "Epoch 66/100\n",
      "32/32 [==============================] - 0s 7ms/step - loss: 2.3272 - mean_absolute_error: 2.3272\n",
      "Epoch 67/100\n",
      "32/32 [==============================] - 0s 9ms/step - loss: 4.2914 - mean_absolute_error: 4.2914\n",
      "Epoch 68/100\n",
      "32/32 [==============================] - 0s 8ms/step - loss: 2.5263 - mean_absolute_error: 2.5263\n",
      "Epoch 69/100\n",
      "32/32 [==============================] - 0s 8ms/step - loss: 2.0065 - mean_absolute_error: 2.0065\n",
      "Epoch 70/100\n",
      "32/32 [==============================] - 0s 8ms/step - loss: 2.9909 - mean_absolute_error: 2.9909\n",
      "Epoch 71/100\n",
      "32/32 [==============================] - 0s 7ms/step - loss: 1.7615 - mean_absolute_error: 1.7615\n",
      "Epoch 72/100\n",
      "32/32 [==============================] - 0s 8ms/step - loss: 4.8831 - mean_absolute_error: 4.8831\n",
      "Epoch 73/100\n",
      "32/32 [==============================] - 0s 8ms/step - loss: 2.4494 - mean_absolute_error: 2.4494\n",
      "Epoch 74/100\n",
      "32/32 [==============================] - 0s 9ms/step - loss: 2.7163 - mean_absolute_error: 2.7163\n",
      "Epoch 75/100\n",
      "32/32 [==============================] - 0s 8ms/step - loss: 1.1444 - mean_absolute_error: 1.1444\n",
      "Epoch 76/100\n",
      "32/32 [==============================] - 0s 8ms/step - loss: 2.9669 - mean_absolute_error: 2.9669\n",
      "Epoch 77/100\n",
      "32/32 [==============================] - 0s 7ms/step - loss: 2.6836 - mean_absolute_error: 2.6836\n",
      "Epoch 78/100\n",
      "32/32 [==============================] - 0s 7ms/step - loss: 4.9551 - mean_absolute_error: 4.9551\n",
      "Epoch 79/100\n",
      "32/32 [==============================] - 0s 8ms/step - loss: 1.5448 - mean_absolute_error: 1.5448\n",
      "Epoch 80/100\n",
      "32/32 [==============================] - 0s 7ms/step - loss: 1.2778 - mean_absolute_error: 1.2778\n",
      "Epoch 81/100\n",
      "32/32 [==============================] - 0s 7ms/step - loss: 1.0894 - mean_absolute_error: 1.0894\n",
      "Epoch 82/100\n",
      "32/32 [==============================] - 0s 7ms/step - loss: 2.1648 - mean_absolute_error: 2.1648\n",
      "Epoch 83/100\n",
      "32/32 [==============================] - 0s 8ms/step - loss: 1.3996 - mean_absolute_error: 1.3996\n",
      "Epoch 84/100\n",
      "32/32 [==============================] - 0s 7ms/step - loss: 2.6156 - mean_absolute_error: 2.6156\n",
      "Epoch 85/100\n",
      "32/32 [==============================] - 0s 7ms/step - loss: 3.9027 - mean_absolute_error: 3.9027\n",
      "Epoch 86/100\n",
      "32/32 [==============================] - 0s 8ms/step - loss: 3.5286 - mean_absolute_error: 3.5286\n",
      "Epoch 87/100\n",
      "32/32 [==============================] - 0s 8ms/step - loss: 2.5052 - mean_absolute_error: 2.5052\n",
      "Epoch 88/100\n",
      "32/32 [==============================] - 0s 7ms/step - loss: 2.1801 - mean_absolute_error: 2.1801\n",
      "Epoch 89/100\n",
      "32/32 [==============================] - 0s 9ms/step - loss: 1.9721 - mean_absolute_error: 1.9721\n",
      "Epoch 90/100\n",
      "32/32 [==============================] - 0s 8ms/step - loss: 4.0512 - mean_absolute_error: 4.0512\n",
      "Epoch 91/100\n",
      "32/32 [==============================] - 0s 8ms/step - loss: 1.4885 - mean_absolute_error: 1.4885\n",
      "Epoch 92/100\n",
      "32/32 [==============================] - 0s 8ms/step - loss: 2.5858 - mean_absolute_error: 2.5858\n",
      "Epoch 93/100\n",
      "32/32 [==============================] - 0s 7ms/step - loss: 1.7774 - mean_absolute_error: 1.7774\n",
      "Epoch 94/100\n",
      "32/32 [==============================] - 0s 7ms/step - loss: 1.5618 - mean_absolute_error: 1.5618\n",
      "Epoch 95/100\n",
      "32/32 [==============================] - 0s 8ms/step - loss: 2.9187 - mean_absolute_error: 2.9187\n",
      "Epoch 96/100\n",
      "32/32 [==============================] - 0s 8ms/step - loss: 1.2014 - mean_absolute_error: 1.2014\n",
      "Epoch 97/100\n",
      "32/32 [==============================] - 0s 7ms/step - loss: 2.1092 - mean_absolute_error: 2.1092\n",
      "Epoch 98/100\n",
      "32/32 [==============================] - 0s 9ms/step - loss: 3.8037 - mean_absolute_error: 3.8037\n",
      "Epoch 99/100\n",
      "32/32 [==============================] - 0s 9ms/step - loss: 2.2578 - mean_absolute_error: 2.2578\n",
      "Epoch 100/100\n",
      "32/32 [==============================] - 0s 9ms/step - loss: 2.8119 - mean_absolute_error: 2.8119\n"
     ]
    },
    {
     "data": {
      "text/plain": [
       "<keras.callbacks.History at 0x2c554c3a0>"
      ]
     },
     "execution_count": 11,
     "metadata": {},
     "output_type": "execute_result"
    }
   ],
   "source": [
    "model=tf.keras.Sequential([\n",
    "    tf.keras.layers.Dense(64, input_shape=(1,), activation='relu'), # input layer\n",
    "    tf.keras.layers.Dense(64, activation='relu'), # hidden layer\n",
    "    tf.keras.layers.Dense(1) # output layer\n",
    "])\n",
    "\n",
    "model.compile(\n",
    "    loss=tf.keras.losses.mean_absolute_error,\n",
    "    optimizer=tf.keras.optimizers.Adam(learning_rate=0.1),\n",
    "    metrics=['mean_absolute_error']\n",
    ")\n",
    "\n",
    "model.fit(X,y, epochs=100)"
   ]
  },
  {
   "cell_type": "code",
   "execution_count": 12,
   "metadata": {},
   "outputs": [
    {
     "name": "stdout",
     "output_type": "stream",
     "text": [
      "1/1 [==============================] - 0s 80ms/step\n"
     ]
    },
    {
     "name": "stderr",
     "output_type": "stream",
     "text": [
      "2022-08-21 10:23:21.342538: I tensorflow/core/grappler/optimizers/custom_graph_optimizer_registry.cc:113] Plugin optimizer for device_type GPU is enabled.\n"
     ]
    },
    {
     "data": {
      "text/plain": [
       "array([[20.10706 ],\n",
       "       [30.207611],\n",
       "       [40.305508]], dtype=float32)"
      ]
     },
     "execution_count": 12,
     "metadata": {},
     "output_type": "execute_result"
    }
   ],
   "source": [
    "X_holdout = [10,20,30]\n",
    "model.predict(X_holdout) #correct output [20,30,40]"
   ]
  },
  {
   "cell_type": "code",
   "execution_count": null,
   "metadata": {},
   "outputs": [],
   "source": []
  },
  {
   "cell_type": "code",
   "execution_count": null,
   "metadata": {},
   "outputs": [],
   "source": []
  },
  {
   "cell_type": "code",
   "execution_count": null,
   "metadata": {},
   "outputs": [],
   "source": []
  }
 ],
 "metadata": {
  "kernelspec": {
   "display_name": "Python 3.10.5 ('tf')",
   "language": "python",
   "name": "python3"
  },
  "language_info": {
   "codemirror_mode": {
    "name": "ipython",
    "version": 3
   },
   "file_extension": ".py",
   "mimetype": "text/x-python",
   "name": "python",
   "nbconvert_exporter": "python",
   "pygments_lexer": "ipython3",
   "version": "3.10.5"
  },
  "orig_nbformat": 4,
  "vscode": {
   "interpreter": {
    "hash": "52ee2977380704a66854748a73250e0671a9318bd5b3fd45a3df9f851ae61629"
   }
  }
 },
 "nbformat": 4,
 "nbformat_minor": 2
}
