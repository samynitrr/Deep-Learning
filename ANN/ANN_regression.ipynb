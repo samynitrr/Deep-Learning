{
 "cells": [
  {
   "cell_type": "code",
   "execution_count": 1,
   "metadata": {},
   "outputs": [
    {
     "data": {
      "text/plain": [
       "'2.9.2'"
      ]
     },
     "execution_count": 1,
     "metadata": {},
     "output_type": "execute_result"
    }
   ],
   "source": [
    "import tensorflow as tf\n",
    "\n",
    "tf.__version__"
   ]
  },
  {
   "cell_type": "code",
   "execution_count": 2,
   "metadata": {},
   "outputs": [
    {
     "data": {
      "text/plain": [
       "[PhysicalDevice(name='/physical_device:CPU:0', device_type='CPU'),\n",
       " PhysicalDevice(name='/physical_device:GPU:0', device_type='GPU')]"
      ]
     },
     "execution_count": 2,
     "metadata": {},
     "output_type": "execute_result"
    }
   ],
   "source": [
    "tf.config.list_physical_devices()"
   ]
  },
  {
   "cell_type": "code",
   "execution_count": 3,
   "metadata": {},
   "outputs": [],
   "source": [
    "import numpy as np\n",
    "import matplotlib.pyplot as plt\n",
    "import pandas as pd"
   ]
  },
  {
   "cell_type": "code",
   "execution_count": 4,
   "metadata": {},
   "outputs": [
    {
     "data": {
      "text/html": [
       "<div>\n",
       "<style scoped>\n",
       "    .dataframe tbody tr th:only-of-type {\n",
       "        vertical-align: middle;\n",
       "    }\n",
       "\n",
       "    .dataframe tbody tr th {\n",
       "        vertical-align: top;\n",
       "    }\n",
       "\n",
       "    .dataframe thead th {\n",
       "        text-align: right;\n",
       "    }\n",
       "</style>\n",
       "<table border=\"1\" class=\"dataframe\">\n",
       "  <thead>\n",
       "    <tr style=\"text-align: right;\">\n",
       "      <th></th>\n",
       "      <th>RowNumber</th>\n",
       "      <th>CustomerId</th>\n",
       "      <th>Surname</th>\n",
       "      <th>CreditScore</th>\n",
       "      <th>Geography</th>\n",
       "      <th>Gender</th>\n",
       "      <th>Age</th>\n",
       "      <th>Tenure</th>\n",
       "      <th>Balance</th>\n",
       "      <th>NumOfProducts</th>\n",
       "      <th>HasCrCard</th>\n",
       "      <th>IsActiveMember</th>\n",
       "      <th>EstimatedSalary</th>\n",
       "      <th>Exited</th>\n",
       "    </tr>\n",
       "  </thead>\n",
       "  <tbody>\n",
       "    <tr>\n",
       "      <th>0</th>\n",
       "      <td>1</td>\n",
       "      <td>15634602</td>\n",
       "      <td>Hargrave</td>\n",
       "      <td>619</td>\n",
       "      <td>France</td>\n",
       "      <td>Female</td>\n",
       "      <td>42</td>\n",
       "      <td>2</td>\n",
       "      <td>0.00</td>\n",
       "      <td>1</td>\n",
       "      <td>1</td>\n",
       "      <td>1</td>\n",
       "      <td>101348.88</td>\n",
       "      <td>1</td>\n",
       "    </tr>\n",
       "    <tr>\n",
       "      <th>1</th>\n",
       "      <td>2</td>\n",
       "      <td>15647311</td>\n",
       "      <td>Hill</td>\n",
       "      <td>608</td>\n",
       "      <td>Spain</td>\n",
       "      <td>Female</td>\n",
       "      <td>41</td>\n",
       "      <td>1</td>\n",
       "      <td>83807.86</td>\n",
       "      <td>1</td>\n",
       "      <td>0</td>\n",
       "      <td>1</td>\n",
       "      <td>112542.58</td>\n",
       "      <td>0</td>\n",
       "    </tr>\n",
       "    <tr>\n",
       "      <th>2</th>\n",
       "      <td>3</td>\n",
       "      <td>15619304</td>\n",
       "      <td>Onio</td>\n",
       "      <td>502</td>\n",
       "      <td>France</td>\n",
       "      <td>Female</td>\n",
       "      <td>42</td>\n",
       "      <td>8</td>\n",
       "      <td>159660.80</td>\n",
       "      <td>3</td>\n",
       "      <td>1</td>\n",
       "      <td>0</td>\n",
       "      <td>113931.57</td>\n",
       "      <td>1</td>\n",
       "    </tr>\n",
       "    <tr>\n",
       "      <th>3</th>\n",
       "      <td>4</td>\n",
       "      <td>15701354</td>\n",
       "      <td>Boni</td>\n",
       "      <td>699</td>\n",
       "      <td>France</td>\n",
       "      <td>Female</td>\n",
       "      <td>39</td>\n",
       "      <td>1</td>\n",
       "      <td>0.00</td>\n",
       "      <td>2</td>\n",
       "      <td>0</td>\n",
       "      <td>0</td>\n",
       "      <td>93826.63</td>\n",
       "      <td>0</td>\n",
       "    </tr>\n",
       "    <tr>\n",
       "      <th>4</th>\n",
       "      <td>5</td>\n",
       "      <td>15737888</td>\n",
       "      <td>Mitchell</td>\n",
       "      <td>850</td>\n",
       "      <td>Spain</td>\n",
       "      <td>Female</td>\n",
       "      <td>43</td>\n",
       "      <td>2</td>\n",
       "      <td>125510.82</td>\n",
       "      <td>1</td>\n",
       "      <td>1</td>\n",
       "      <td>1</td>\n",
       "      <td>79084.10</td>\n",
       "      <td>0</td>\n",
       "    </tr>\n",
       "  </tbody>\n",
       "</table>\n",
       "</div>"
      ],
      "text/plain": [
       "   RowNumber  CustomerId   Surname  CreditScore Geography  Gender  Age  \\\n",
       "0          1    15634602  Hargrave          619    France  Female   42   \n",
       "1          2    15647311      Hill          608     Spain  Female   41   \n",
       "2          3    15619304      Onio          502    France  Female   42   \n",
       "3          4    15701354      Boni          699    France  Female   39   \n",
       "4          5    15737888  Mitchell          850     Spain  Female   43   \n",
       "\n",
       "   Tenure    Balance  NumOfProducts  HasCrCard  IsActiveMember  \\\n",
       "0       2       0.00              1          1               1   \n",
       "1       1   83807.86              1          0               1   \n",
       "2       8  159660.80              3          1               0   \n",
       "3       1       0.00              2          0               0   \n",
       "4       2  125510.82              1          1               1   \n",
       "\n",
       "   EstimatedSalary  Exited  \n",
       "0        101348.88       1  \n",
       "1        112542.58       0  \n",
       "2        113931.57       1  \n",
       "3         93826.63       0  \n",
       "4         79084.10       0  "
      ]
     },
     "execution_count": 4,
     "metadata": {},
     "output_type": "execute_result"
    }
   ],
   "source": [
    "df=pd.read_csv('Churn_Modelling.csv')\n",
    "df.head()"
   ]
  },
  {
   "cell_type": "code",
   "execution_count": 5,
   "metadata": {},
   "outputs": [],
   "source": [
    "X = df.iloc[:,[3,4,5,6,7,8,9,10,11,13]]\n",
    "y = df.iloc[:,12]"
   ]
  },
  {
   "cell_type": "code",
   "execution_count": 6,
   "metadata": {},
   "outputs": [
    {
     "data": {
      "text/html": [
       "<div>\n",
       "<style scoped>\n",
       "    .dataframe tbody tr th:only-of-type {\n",
       "        vertical-align: middle;\n",
       "    }\n",
       "\n",
       "    .dataframe tbody tr th {\n",
       "        vertical-align: top;\n",
       "    }\n",
       "\n",
       "    .dataframe thead th {\n",
       "        text-align: right;\n",
       "    }\n",
       "</style>\n",
       "<table border=\"1\" class=\"dataframe\">\n",
       "  <thead>\n",
       "    <tr style=\"text-align: right;\">\n",
       "      <th></th>\n",
       "      <th>CreditScore</th>\n",
       "      <th>Geography</th>\n",
       "      <th>Gender</th>\n",
       "      <th>Age</th>\n",
       "      <th>Tenure</th>\n",
       "      <th>Balance</th>\n",
       "      <th>NumOfProducts</th>\n",
       "      <th>HasCrCard</th>\n",
       "      <th>IsActiveMember</th>\n",
       "      <th>Exited</th>\n",
       "    </tr>\n",
       "  </thead>\n",
       "  <tbody>\n",
       "    <tr>\n",
       "      <th>0</th>\n",
       "      <td>619</td>\n",
       "      <td>France</td>\n",
       "      <td>Female</td>\n",
       "      <td>42</td>\n",
       "      <td>2</td>\n",
       "      <td>0.00</td>\n",
       "      <td>1</td>\n",
       "      <td>1</td>\n",
       "      <td>1</td>\n",
       "      <td>1</td>\n",
       "    </tr>\n",
       "    <tr>\n",
       "      <th>1</th>\n",
       "      <td>608</td>\n",
       "      <td>Spain</td>\n",
       "      <td>Female</td>\n",
       "      <td>41</td>\n",
       "      <td>1</td>\n",
       "      <td>83807.86</td>\n",
       "      <td>1</td>\n",
       "      <td>0</td>\n",
       "      <td>1</td>\n",
       "      <td>0</td>\n",
       "    </tr>\n",
       "    <tr>\n",
       "      <th>2</th>\n",
       "      <td>502</td>\n",
       "      <td>France</td>\n",
       "      <td>Female</td>\n",
       "      <td>42</td>\n",
       "      <td>8</td>\n",
       "      <td>159660.80</td>\n",
       "      <td>3</td>\n",
       "      <td>1</td>\n",
       "      <td>0</td>\n",
       "      <td>1</td>\n",
       "    </tr>\n",
       "    <tr>\n",
       "      <th>3</th>\n",
       "      <td>699</td>\n",
       "      <td>France</td>\n",
       "      <td>Female</td>\n",
       "      <td>39</td>\n",
       "      <td>1</td>\n",
       "      <td>0.00</td>\n",
       "      <td>2</td>\n",
       "      <td>0</td>\n",
       "      <td>0</td>\n",
       "      <td>0</td>\n",
       "    </tr>\n",
       "    <tr>\n",
       "      <th>4</th>\n",
       "      <td>850</td>\n",
       "      <td>Spain</td>\n",
       "      <td>Female</td>\n",
       "      <td>43</td>\n",
       "      <td>2</td>\n",
       "      <td>125510.82</td>\n",
       "      <td>1</td>\n",
       "      <td>1</td>\n",
       "      <td>1</td>\n",
       "      <td>0</td>\n",
       "    </tr>\n",
       "  </tbody>\n",
       "</table>\n",
       "</div>"
      ],
      "text/plain": [
       "   CreditScore Geography  Gender  Age  Tenure    Balance  NumOfProducts  \\\n",
       "0          619    France  Female   42       2       0.00              1   \n",
       "1          608     Spain  Female   41       1   83807.86              1   \n",
       "2          502    France  Female   42       8  159660.80              3   \n",
       "3          699    France  Female   39       1       0.00              2   \n",
       "4          850     Spain  Female   43       2  125510.82              1   \n",
       "\n",
       "   HasCrCard  IsActiveMember  Exited  \n",
       "0          1               1       1  \n",
       "1          0               1       0  \n",
       "2          1               0       1  \n",
       "3          0               0       0  \n",
       "4          1               1       0  "
      ]
     },
     "execution_count": 6,
     "metadata": {},
     "output_type": "execute_result"
    }
   ],
   "source": [
    "X.head()"
   ]
  },
  {
   "cell_type": "code",
   "execution_count": 7,
   "metadata": {},
   "outputs": [
    {
     "data": {
      "text/plain": [
       "0    101348.88\n",
       "1    112542.58\n",
       "2    113931.57\n",
       "3     93826.63\n",
       "4     79084.10\n",
       "Name: EstimatedSalary, dtype: float64"
      ]
     },
     "execution_count": 7,
     "metadata": {},
     "output_type": "execute_result"
    }
   ],
   "source": [
    "y.head()"
   ]
  },
  {
   "cell_type": "code",
   "execution_count": 8,
   "metadata": {},
   "outputs": [],
   "source": [
    "## Feature Engineering\n",
    "geography= pd.get_dummies(X['Geography'], drop_first=True)\n",
    "gender= pd.get_dummies(X['Gender'], drop_first=True)"
   ]
  },
  {
   "cell_type": "code",
   "execution_count": 9,
   "metadata": {},
   "outputs": [
    {
     "name": "stderr",
     "output_type": "stream",
     "text": [
      "/var/folders/8c/xhhzc929045973qqkytbdr6h0000gn/T/ipykernel_6753/3635950594.py:1: SettingWithCopyWarning: \n",
      "A value is trying to be set on a copy of a slice from a DataFrame\n",
      "\n",
      "See the caveats in the documentation: https://pandas.pydata.org/pandas-docs/stable/user_guide/indexing.html#returning-a-view-versus-a-copy\n",
      "  X.drop(['Geography', 'Gender'], axis=1, inplace=True)\n"
     ]
    }
   ],
   "source": [
    "X.drop(['Geography', 'Gender'], axis=1, inplace=True)"
   ]
  },
  {
   "cell_type": "code",
   "execution_count": 10,
   "metadata": {},
   "outputs": [
    {
     "data": {
      "text/html": [
       "<div>\n",
       "<style scoped>\n",
       "    .dataframe tbody tr th:only-of-type {\n",
       "        vertical-align: middle;\n",
       "    }\n",
       "\n",
       "    .dataframe tbody tr th {\n",
       "        vertical-align: top;\n",
       "    }\n",
       "\n",
       "    .dataframe thead th {\n",
       "        text-align: right;\n",
       "    }\n",
       "</style>\n",
       "<table border=\"1\" class=\"dataframe\">\n",
       "  <thead>\n",
       "    <tr style=\"text-align: right;\">\n",
       "      <th></th>\n",
       "      <th>CreditScore</th>\n",
       "      <th>Age</th>\n",
       "      <th>Tenure</th>\n",
       "      <th>Balance</th>\n",
       "      <th>NumOfProducts</th>\n",
       "      <th>HasCrCard</th>\n",
       "      <th>IsActiveMember</th>\n",
       "      <th>Exited</th>\n",
       "      <th>Germany</th>\n",
       "      <th>Spain</th>\n",
       "      <th>Male</th>\n",
       "    </tr>\n",
       "  </thead>\n",
       "  <tbody>\n",
       "    <tr>\n",
       "      <th>0</th>\n",
       "      <td>619</td>\n",
       "      <td>42</td>\n",
       "      <td>2</td>\n",
       "      <td>0.00</td>\n",
       "      <td>1</td>\n",
       "      <td>1</td>\n",
       "      <td>1</td>\n",
       "      <td>1</td>\n",
       "      <td>0</td>\n",
       "      <td>0</td>\n",
       "      <td>0</td>\n",
       "    </tr>\n",
       "    <tr>\n",
       "      <th>1</th>\n",
       "      <td>608</td>\n",
       "      <td>41</td>\n",
       "      <td>1</td>\n",
       "      <td>83807.86</td>\n",
       "      <td>1</td>\n",
       "      <td>0</td>\n",
       "      <td>1</td>\n",
       "      <td>0</td>\n",
       "      <td>0</td>\n",
       "      <td>1</td>\n",
       "      <td>0</td>\n",
       "    </tr>\n",
       "    <tr>\n",
       "      <th>2</th>\n",
       "      <td>502</td>\n",
       "      <td>42</td>\n",
       "      <td>8</td>\n",
       "      <td>159660.80</td>\n",
       "      <td>3</td>\n",
       "      <td>1</td>\n",
       "      <td>0</td>\n",
       "      <td>1</td>\n",
       "      <td>0</td>\n",
       "      <td>0</td>\n",
       "      <td>0</td>\n",
       "    </tr>\n",
       "    <tr>\n",
       "      <th>3</th>\n",
       "      <td>699</td>\n",
       "      <td>39</td>\n",
       "      <td>1</td>\n",
       "      <td>0.00</td>\n",
       "      <td>2</td>\n",
       "      <td>0</td>\n",
       "      <td>0</td>\n",
       "      <td>0</td>\n",
       "      <td>0</td>\n",
       "      <td>0</td>\n",
       "      <td>0</td>\n",
       "    </tr>\n",
       "    <tr>\n",
       "      <th>4</th>\n",
       "      <td>850</td>\n",
       "      <td>43</td>\n",
       "      <td>2</td>\n",
       "      <td>125510.82</td>\n",
       "      <td>1</td>\n",
       "      <td>1</td>\n",
       "      <td>1</td>\n",
       "      <td>0</td>\n",
       "      <td>0</td>\n",
       "      <td>1</td>\n",
       "      <td>0</td>\n",
       "    </tr>\n",
       "  </tbody>\n",
       "</table>\n",
       "</div>"
      ],
      "text/plain": [
       "   CreditScore  Age  Tenure    Balance  NumOfProducts  HasCrCard  \\\n",
       "0          619   42       2       0.00              1          1   \n",
       "1          608   41       1   83807.86              1          0   \n",
       "2          502   42       8  159660.80              3          1   \n",
       "3          699   39       1       0.00              2          0   \n",
       "4          850   43       2  125510.82              1          1   \n",
       "\n",
       "   IsActiveMember  Exited  Germany  Spain  Male  \n",
       "0               1       1        0      0     0  \n",
       "1               1       0        0      1     0  \n",
       "2               0       1        0      0     0  \n",
       "3               0       0        0      0     0  \n",
       "4               1       0        0      1     0  "
      ]
     },
     "execution_count": 10,
     "metadata": {},
     "output_type": "execute_result"
    }
   ],
   "source": [
    "X = pd.concat([X,geography, gender], axis=1)\n",
    "X.head()"
   ]
  },
  {
   "cell_type": "code",
   "execution_count": 11,
   "metadata": {},
   "outputs": [],
   "source": [
    "# train test split\n",
    "from sklearn.model_selection import train_test_split\n",
    "\n",
    "X_train, X_test,y_train, y_test = train_test_split(X,y, test_size=0.2, random_state=0)"
   ]
  },
  {
   "cell_type": "code",
   "execution_count": 12,
   "metadata": {},
   "outputs": [],
   "source": [
    "# Feature Scaling\n",
    "\n",
    "from sklearn.preprocessing import StandardScaler\n",
    "sc=StandardScaler()\n",
    "X_train = sc.fit_transform(X_train)\n",
    "X_test = sc.transform(X_test)"
   ]
  },
  {
   "cell_type": "code",
   "execution_count": 13,
   "metadata": {},
   "outputs": [
    {
     "data": {
      "text/plain": [
       "((8000, 11), (2000, 11))"
      ]
     },
     "execution_count": 13,
     "metadata": {},
     "output_type": "execute_result"
    }
   ],
   "source": [
    "X_train.shape, X_test.shape"
   ]
  },
  {
   "cell_type": "code",
   "execution_count": 14,
   "metadata": {},
   "outputs": [
    {
     "data": {
      "text/plain": [
       "array([[ 0.16958176, -0.46460796,  0.00666099, ..., -0.5698444 ,\n",
       "         1.74309049, -1.09168714],\n",
       "       [-2.30455945,  0.30102557, -1.37744033, ...,  1.75486502,\n",
       "        -0.57369368,  0.91601335],\n",
       "       [-1.19119591, -0.94312892, -1.031415  , ..., -0.5698444 ,\n",
       "        -0.57369368, -1.09168714],\n",
       "       ...,\n",
       "       [ 0.9015152 , -0.36890377,  0.00666099, ..., -0.5698444 ,\n",
       "        -0.57369368,  0.91601335],\n",
       "       [-0.62420521, -0.08179119,  1.39076231, ..., -0.5698444 ,\n",
       "         1.74309049, -1.09168714],\n",
       "       [-0.28401079,  0.87525072, -1.37744033, ...,  1.75486502,\n",
       "        -0.57369368, -1.09168714]])"
      ]
     },
     "execution_count": 14,
     "metadata": {},
     "output_type": "execute_result"
    }
   ],
   "source": [
    "X_train"
   ]
  },
  {
   "cell_type": "code",
   "execution_count": 32,
   "metadata": {},
   "outputs": [
    {
     "name": "stdout",
     "output_type": "stream",
     "text": [
      "Model: \"sequential_1\"\n",
      "_________________________________________________________________\n",
      " Layer (type)                Output Shape              Param #   \n",
      "=================================================================\n",
      " dense_4 (Dense)             (None, 10)                120       \n",
      "                                                                 \n",
      " dense_5 (Dense)             (None, 10)                110       \n",
      "                                                                 \n",
      " dense_6 (Dense)             (None, 10)                110       \n",
      "                                                                 \n",
      " dense_7 (Dense)             (None, 1)                 11        \n",
      "                                                                 \n",
      "=================================================================\n",
      "Total params: 351\n",
      "Trainable params: 351\n",
      "Non-trainable params: 0\n",
      "_________________________________________________________________\n"
     ]
    }
   ],
   "source": [
    "regressor=tf.keras.models.Sequential([\n",
    "    tf.keras.layers.Dense(10, input_shape=(11,),activation='relu' ), # input layer & 1st hidden layer\n",
    "    tf.keras.layers.Dense(10,activation='relu'), # 2nd hidden layer\n",
    "    # tf.keras.layers.Dropout(0.2), # bias of the hidden layer\n",
    "    tf.keras.layers.Dense(10,activation='relu'), # 3rd hidden layer\n",
    "    # tf.keras.layers.Dropout(0.3), # bias of the hidden layer\n",
    "    tf.keras.layers.Dense(1, activation='linear') # output layer\n",
    "])\n",
    "\n",
    "regressor.compile(\n",
    "    loss=tf.keras.losses.mean_absolute_error,\n",
    "    optimizer=tf.keras.optimizers.Adam(learning_rate=0.1),\n",
    "    metrics=['mean_absolute_error']\n",
    ")\n",
    "\n",
    "regressor.summary()"
   ]
  },
  {
   "cell_type": "code",
   "execution_count": 42,
   "metadata": {},
   "outputs": [],
   "source": [
    "## Early stopping of the training model\n",
    "early_stopping=tf.keras.callbacks.EarlyStopping(\n",
    "    monitor=\"val_loss\",\n",
    "    min_delta=0.0001,\n",
    "    patience=20, \n",
    "    verbose=1,\n",
    "    mode=\"auto\",\n",
    "    baseline=None,\n",
    "    restore_best_weights=False,   \n",
    "\n",
    ")"
   ]
  },
  {
   "cell_type": "code",
   "execution_count": 43,
   "metadata": {},
   "outputs": [
    {
     "name": "stdout",
     "output_type": "stream",
     "text": [
      "Epoch 1/100\n",
      "536/536 [==============================] - 6s 10ms/step - loss: 50434.1836 - mean_absolute_error: 50434.1836 - val_loss: 51285.0547 - val_mean_absolute_error: 51285.0547\n",
      "Epoch 2/100\n",
      "536/536 [==============================] - 5s 10ms/step - loss: 50414.0703 - mean_absolute_error: 50414.0703 - val_loss: 50876.0781 - val_mean_absolute_error: 50876.0703\n",
      "Epoch 3/100\n",
      "536/536 [==============================] - 5s 10ms/step - loss: 50412.9609 - mean_absolute_error: 50412.9609 - val_loss: 53303.3633 - val_mean_absolute_error: 53303.3594\n",
      "Epoch 4/100\n",
      "536/536 [==============================] - 5s 10ms/step - loss: 50495.8242 - mean_absolute_error: 50495.8242 - val_loss: 51042.1367 - val_mean_absolute_error: 51042.1367\n",
      "Epoch 5/100\n",
      "536/536 [==============================] - 5s 10ms/step - loss: 50041.4414 - mean_absolute_error: 50041.4414 - val_loss: 50515.5664 - val_mean_absolute_error: 50515.5664\n",
      "Epoch 6/100\n",
      "536/536 [==============================] - 5s 10ms/step - loss: 50312.2148 - mean_absolute_error: 50312.2148 - val_loss: 50829.5195 - val_mean_absolute_error: 50829.5195\n",
      "Epoch 7/100\n",
      "536/536 [==============================] - 5s 10ms/step - loss: 50433.9688 - mean_absolute_error: 50433.9688 - val_loss: 51992.3633 - val_mean_absolute_error: 51992.3633\n",
      "Epoch 8/100\n",
      "536/536 [==============================] - 5s 10ms/step - loss: 50036.0156 - mean_absolute_error: 50036.0156 - val_loss: 51137.8438 - val_mean_absolute_error: 51137.8438\n",
      "Epoch 9/100\n",
      "536/536 [==============================] - 5s 10ms/step - loss: 50301.9414 - mean_absolute_error: 50301.9414 - val_loss: 50774.3320 - val_mean_absolute_error: 50774.3320\n",
      "Epoch 10/100\n",
      "536/536 [==============================] - 5s 10ms/step - loss: 49939.8320 - mean_absolute_error: 49939.8242 - val_loss: 51220.1055 - val_mean_absolute_error: 51220.1055\n",
      "Epoch 11/100\n",
      "536/536 [==============================] - 5s 10ms/step - loss: 49973.1836 - mean_absolute_error: 49973.1836 - val_loss: 53315.1211 - val_mean_absolute_error: 53315.1211\n",
      "Epoch 12/100\n",
      "536/536 [==============================] - 5s 10ms/step - loss: 49862.5039 - mean_absolute_error: 49862.5039 - val_loss: 51278.7422 - val_mean_absolute_error: 51278.7422\n",
      "Epoch 13/100\n",
      "536/536 [==============================] - 5s 10ms/step - loss: 49873.7148 - mean_absolute_error: 49873.7148 - val_loss: 51169.9961 - val_mean_absolute_error: 51169.9961\n",
      "Epoch 14/100\n",
      "536/536 [==============================] - 5s 10ms/step - loss: 49700.7266 - mean_absolute_error: 49700.7227 - val_loss: 51038.7500 - val_mean_absolute_error: 51038.7500\n",
      "Epoch 15/100\n",
      "536/536 [==============================] - 5s 10ms/step - loss: 49802.3281 - mean_absolute_error: 49802.3281 - val_loss: 51336.8359 - val_mean_absolute_error: 51336.8359\n",
      "Epoch 16/100\n",
      "536/536 [==============================] - 5s 9ms/step - loss: 49797.4492 - mean_absolute_error: 49797.4492 - val_loss: 50576.9883 - val_mean_absolute_error: 50576.9883\n",
      "Epoch 17/100\n",
      "536/536 [==============================] - 5s 10ms/step - loss: 49735.7695 - mean_absolute_error: 49735.7695 - val_loss: 51056.9766 - val_mean_absolute_error: 51056.9766\n",
      "Epoch 18/100\n",
      "536/536 [==============================] - 5s 9ms/step - loss: 49885.5234 - mean_absolute_error: 49885.5234 - val_loss: 51518.8086 - val_mean_absolute_error: 51518.8086\n",
      "Epoch 19/100\n",
      "536/536 [==============================] - 5s 9ms/step - loss: 49704.7852 - mean_absolute_error: 49704.7852 - val_loss: 51058.7695 - val_mean_absolute_error: 51058.7695\n",
      "Epoch 20/100\n",
      "536/536 [==============================] - 5s 10ms/step - loss: 49771.7383 - mean_absolute_error: 49771.7383 - val_loss: 50748.5352 - val_mean_absolute_error: 50748.5352\n",
      "Epoch 21/100\n",
      "536/536 [==============================] - 5s 10ms/step - loss: 49771.7969 - mean_absolute_error: 49771.7891 - val_loss: 50923.4766 - val_mean_absolute_error: 50923.4766\n",
      "Epoch 22/100\n",
      "536/536 [==============================] - 5s 10ms/step - loss: 49791.5977 - mean_absolute_error: 49791.5977 - val_loss: 51222.4180 - val_mean_absolute_error: 51222.4180\n",
      "Epoch 23/100\n",
      "536/536 [==============================] - 6s 11ms/step - loss: 49853.6836 - mean_absolute_error: 49853.6836 - val_loss: 50793.9453 - val_mean_absolute_error: 50793.9453\n",
      "Epoch 24/100\n",
      "536/536 [==============================] - 6s 11ms/step - loss: 49595.1680 - mean_absolute_error: 49595.1680 - val_loss: 51144.3945 - val_mean_absolute_error: 51144.3867\n",
      "Epoch 25/100\n",
      "536/536 [==============================] - 5s 10ms/step - loss: 49762.6133 - mean_absolute_error: 49762.6133 - val_loss: 51281.4492 - val_mean_absolute_error: 51281.4492\n",
      "Epoch 25: early stopping\n"
     ]
    }
   ],
   "source": [
    "model_history = regressor.fit(X_train,y_train,validation_split=0.33,batch_size=10, epochs=100,callbacks=early_stopping)"
   ]
  },
  {
   "cell_type": "code",
   "execution_count": 35,
   "metadata": {},
   "outputs": [
    {
     "data": {
      "text/plain": [
       "dict_keys(['loss', 'mean_absolute_error', 'val_loss', 'val_mean_absolute_error'])"
      ]
     },
     "execution_count": 35,
     "metadata": {},
     "output_type": "execute_result"
    }
   ],
   "source": [
    "model_history.history.keys()"
   ]
  },
  {
   "cell_type": "code",
   "execution_count": 36,
   "metadata": {},
   "outputs": [
    {
     "data": {
      "image/png": "[encoded data removed]",
      "text/plain": [
       "<Figure size 640x480 with 1 Axes>"
      ]
     },
     "metadata": {},
     "output_type": "display_data"
    }
   ],
   "source": [
    "# summarize history for accuracy\n",
    "plt.plot(model_history.history['mean_absolute_error'])\n",
    "plt.plot(model_history.history['val_mean_absolute_error'])\n",
    "plt.title('model accuracy')\n",
    "plt.ylabel('MAE')\n",
    "plt.xlabel('epoch')\n",
    "plt.legend(['train','test'], loc='upper left')\n",
    "plt.show()"
   ]
  },
  {
   "cell_type": "code",
   "execution_count": 37,
   "metadata": {},
   "outputs": [
    {
     "data": {
      "image/png": "[encoded data removed]",
      "text/plain": [
       "<Figure size 640x480 with 1 Axes>"
      ]
     },
     "metadata": {},
     "output_type": "display_data"
    }
   ],
   "source": [
    "# summarize history for loss\n",
    "plt.plot(model_history.history['loss'])\n",
    "plt.plot(model_history.history['val_loss'])\n",
    "plt.title('model loss')\n",
    "plt.ylabel('loss')\n",
    "plt.xlabel('epoch')\n",
    "plt.legend(['train', 'test'], loc='upper left')\n",
    "plt.show()"
   ]
  },
  {
   "cell_type": "code",
   "execution_count": 38,
   "metadata": {},
   "outputs": [
    {
     "name": "stdout",
     "output_type": "stream",
     "text": [
      "34/63 [===============>..............] - ETA: 0s"
     ]
    },
    {
     "name": "stderr",
     "output_type": "stream",
     "text": [
      "2022-08-21 12:14:10.154091: I tensorflow/core/grappler/optimizers/custom_graph_optimizer_registry.cc:113] Plugin optimizer for device_type GPU is enabled.\n"
     ]
    },
    {
     "name": "stdout",
     "output_type": "stream",
     "text": [
      "63/63 [==============================] - 0s 5ms/step\n"
     ]
    }
   ],
   "source": [
    "y_pred = regressor.predict(X_test)\n"
   ]
  },
  {
   "cell_type": "code",
   "execution_count": 39,
   "metadata": {},
   "outputs": [
    {
     "data": {
      "text/plain": [
       "(50189.695078906254, 59049.83820345687)"
      ]
     },
     "execution_count": 39,
     "metadata": {},
     "output_type": "execute_result"
    }
   ],
   "source": [
    "# Making the Confusion Matrix\n",
    "from sklearn.metrics import mean_absolute_error, mean_squared_error\n",
    "cm = mean_absolute_error(y_test, y_pred)\n",
    "cm2 = mean_squared_error(y_test, y_pred, squared=False)\n",
    "cm,cm2"
   ]
  },
  {
   "cell_type": "code",
   "execution_count": 40,
   "metadata": {},
   "outputs": [],
   "source": [
    "# Calculate the Accuracy\n",
    "from sklearn.metrics import r2_score\n",
    "score=r2_score(y_pred,y_test)"
   ]
  },
  {
   "cell_type": "code",
   "execution_count": 41,
   "metadata": {},
   "outputs": [
    {
     "data": {
      "text/plain": [
       "-14.755677558595263"
      ]
     },
     "execution_count": 41,
     "metadata": {},
     "output_type": "execute_result"
    }
   ],
   "source": [
    "score"
   ]
  },
  {
   "cell_type": "code",
   "execution_count": 31,
   "metadata": {},
   "outputs": [
    {
     "data": {
      "text/plain": [
       "[array([[ -0.6926607 ,  -0.19612971,  -0.31391197,   4.272938  ,\n",
       "          -2.8603406 ,  -3.9196048 ,   3.296409  ,  -0.11181901,\n",
       "          -3.1169994 ,   2.586101  ],\n",
       "        [  0.1255754 ,   1.6226299 ,  -4.62201   ,  -2.3599772 ,\n",
       "          -0.65677863,   0.30541247,   1.760789  ,   2.193911  ,\n",
       "           1.0741632 ,   0.08748922],\n",
       "        [ -1.5249668 ,   1.0165504 ,  -0.04626517,  -2.6874368 ,\n",
       "           1.1052068 ,  -1.3696847 ,   2.3678305 ,   1.576058  ,\n",
       "           3.1773    ,  -3.3910503 ],\n",
       "        [  0.2695968 ,  -1.0041533 ,  -2.1043806 ,  -2.433086  ,\n",
       "           1.7224497 ,   2.773867  ,  -0.31971514,  -0.98106444,\n",
       "          -0.817815  ,  -0.501289  ],\n",
       "        [  1.4652858 ,  -0.628988  ,  -1.1645328 ,  -1.922527  ,\n",
       "          -1.5492986 ,  -2.3342087 ,   2.896852  ,   1.2632731 ,\n",
       "           2.6336324 ,   2.376551  ],\n",
       "        [  0.19921549,   3.3602867 ,   0.13846758,  -5.6264143 ,\n",
       "           1.8270752 ,  -3.2231958 ,  -6.969572  ,   1.0709869 ,\n",
       "           4.9643593 ,   4.8843575 ],\n",
       "        [ -1.1697613 ,  -0.18538241,   4.124503  ,   1.5605276 ,\n",
       "          -1.8880352 ,   2.41259   ,   4.4067307 ,  -2.536965  ,\n",
       "          -2.347582  ,  -2.3381674 ],\n",
       "        [  1.5746702 ,  -0.6047229 ,  -0.657285  ,  -3.5060613 ,\n",
       "           2.9076166 ,   2.344745  ,   1.1291938 ,   2.6934576 ,\n",
       "           0.6565267 ,  -7.898901  ],\n",
       "        [-13.075754  ,   3.3747995 ,   4.444053  ,  -6.57482   ,\n",
       "           1.6199661 ,   2.8074908 ,  -2.807356  ,   2.4539528 ,\n",
       "          -5.0697217 ,   4.8250465 ],\n",
       "        [  3.5412366 ,   2.5026858 ,  -3.137856  ,   3.1282408 ,\n",
       "           1.0632528 ,   1.422561  ,  -5.864564  ,  -3.227104  ,\n",
       "           2.2356472 ,  -3.7361434 ],\n",
       "        [ -0.172508  ,  -2.1896613 ,  -0.9514236 ,  -0.29537362,\n",
       "           0.65177035,  -0.02785579,   5.1669946 ,  -3.0927026 ,\n",
       "           0.05704963,   2.6621144 ]], dtype=float32),\n",
       " array([11.642259 ,  9.458003 , 11.12632  ,  8.354334 , 11.8006315,\n",
       "         9.997051 ,  3.4641616, 13.922285 ,  5.5824995,  8.102765 ],\n",
       "       dtype=float32),\n",
       " array([[ 4.987255  , -0.26977864,  1.6594272 ,  3.777213  ,  5.339985  ,\n",
       "          3.5630925 ,  4.2539597 ,  3.5148604 ,  4.8458166 ,  3.623693  ],\n",
       "        [ 1.6790906 , -1.0009866 , -0.9021623 ,  1.2694963 ,  1.9997078 ,\n",
       "          1.118646  ,  1.4029723 ,  0.11380205,  1.2805831 ,  0.73212796],\n",
       "        [ 3.4565632 , -0.9207441 ,  0.44885612,  3.1175783 ,  3.1606193 ,\n",
       "          1.9424416 ,  2.8013108 ,  2.0319126 ,  2.652172  ,  2.2345855 ],\n",
       "        [ 4.0124097 ,  0.25628918,  0.90745044,  2.7396502 ,  3.8533523 ,\n",
       "          3.3056958 ,  3.3968544 ,  2.4330688 ,  3.492843  ,  1.9621426 ],\n",
       "        [ 3.1677983 , -0.43478516, -0.45108223,  1.1920996 ,  3.0185688 ,\n",
       "          1.149897  ,  2.3165998 ,  1.2461189 ,  2.1192033 ,  1.5200214 ],\n",
       "        [ 2.7119393 , -0.93883973,  0.30717522,  1.9358977 ,  2.9975977 ,\n",
       "          1.207362  ,  2.0631814 ,  0.6806289 ,  2.093383  ,  1.3522176 ],\n",
       "        [ 3.3356311 , -0.6958967 ,  0.06470969,  1.9564381 ,  3.188604  ,\n",
       "          2.4336011 ,  2.4868736 ,  1.7047555 ,  2.1887586 ,  1.6092023 ],\n",
       "        [ 4.3325644 , -0.45827252,  0.2781645 ,  3.1027818 ,  4.068518  ,\n",
       "          2.9359858 ,  3.449316  ,  2.0090668 ,  2.9698455 ,  2.109539  ],\n",
       "        [ 1.9955108 , -0.6187304 ,  0.25479436,  1.4879357 ,  2.0266185 ,\n",
       "          1.7937644 ,  2.2959824 ,  1.4647104 ,  1.282186  ,  1.7852577 ],\n",
       "        [ 3.9113865 , -0.08301245,  1.7488862 ,  2.637979  ,  3.3833866 ,\n",
       "          2.6980143 ,  3.3478417 ,  1.9305682 ,  2.8264236 ,  2.4897137 ]],\n",
       "       dtype=float32),\n",
       " array([18.36882   , -0.62345475, 12.401424  , 16.922014  , 18.252817  ,\n",
       "        16.209616  , 17.213129  , 15.323013  , 17.280094  , 15.731388  ],\n",
       "       dtype=float32),\n",
       " array([[-1.0388546 ,  3.3554623 ,  2.4679337 , -0.54037315,  3.3767297 ,\n",
       "         -0.74201083, -1.0277382 ,  4.1422467 ,  3.650451  ,  2.0611587 ],\n",
       "        [-0.96789837,  0.21324705,  0.4499764 ,  0.03813225,  0.68311584,\n",
       "         -0.58992356, -0.62108827,  0.22775628,  0.48015407,  0.6029552 ],\n",
       "        [-0.5271428 ,  0.25062805, -0.3745483 ,  0.54644895,  0.42002353,\n",
       "         -0.73279864, -0.30649477,  1.1258612 ,  0.4106672 ,  0.27248007],\n",
       "        [-0.65109104,  2.332308  ,  1.4802572 , -0.4277876 ,  2.286815  ,\n",
       "         -0.1815118 , -0.46873686,  2.853131  ,  2.727368  ,  0.51031786],\n",
       "        [-0.35633984,  3.1825128 ,  2.0739129 , -0.54650056,  3.5385573 ,\n",
       "         -0.7539518 , -0.5291553 ,  4.0709414 ,  3.2365406 ,  2.3393316 ],\n",
       "        [-0.87832534,  1.7242002 ,  1.6878252 , -0.09024271,  2.4735806 ,\n",
       "         -0.9450579 , -0.5945002 ,  2.2508135 ,  2.1623812 ,  1.3129941 ],\n",
       "        [-0.44023445,  2.5079732 ,  1.6469021 , -0.33862853,  2.945783  ,\n",
       "         -0.2662185 , -0.7766865 ,  3.379486  ,  2.5303235 ,  1.3886497 ],\n",
       "        [-0.38259912,  1.7806623 ,  0.6153285 , -0.03237844,  1.8799672 ,\n",
       "         -0.13501504, -0.2737684 ,  2.1633434 ,  1.4620144 ,  0.71107626],\n",
       "        [-1.2153529 ,  2.3650246 ,  1.8539621 , -0.23507336,  2.4185534 ,\n",
       "         -0.32389978, -0.43406785,  3.5188973 ,  2.027886  ,  2.0160434 ],\n",
       "        [-0.4513896 ,  2.2542775 ,  1.6886258 , -0.32423246,  1.4892056 ,\n",
       "         -0.30421802, -0.42716214,  2.2015686 ,  1.5657563 ,  1.1934416 ]],\n",
       "       dtype=float32),\n",
       " array([-0.79260546, 21.410795  , 20.207752  ,  0.        , 21.640392  ,\n",
       "        -0.6301795 , -0.7727193 , 22.244717  , 21.36354   , 19.926733  ],\n",
       "       dtype=float32),\n",
       " array([[ 0.4548541 ],\n",
       "        [ 2.5448136 ],\n",
       "        [ 1.7425846 ],\n",
       "        [-0.72863895],\n",
       "        [ 2.6647015 ],\n",
       "        [ 0.53326166],\n",
       "        [ 0.38875747],\n",
       "        [ 3.3004541 ],\n",
       "        [ 2.63816   ],\n",
       "        [ 1.5177562 ]], dtype=float32),\n",
       " array([23.739239], dtype=float32)]"
      ]
     },
     "execution_count": 31,
     "metadata": {},
     "output_type": "execute_result"
    }
   ],
   "source": [
    "regressor.get_weights()"
   ]
  },
  {
   "cell_type": "code",
   "execution_count": 44,
   "metadata": {},
   "outputs": [],
   "source": [
    "#Saving h5 file\n",
    "regressor.save('reg_model.h5')"
   ]
  },
  {
   "cell_type": "code",
   "execution_count": 45,
   "metadata": {},
   "outputs": [],
   "source": [
    "#Loading h5 file\n",
    "reg = tf.keras.models.load_model('reg_model.h5')"
   ]
  },
  {
   "cell_type": "code",
   "execution_count": 46,
   "metadata": {},
   "outputs": [
    {
     "name": "stdout",
     "output_type": "stream",
     "text": [
      "63/63 [==============================] - 0s 3ms/step\n"
     ]
    },
    {
     "name": "stderr",
     "output_type": "stream",
     "text": [
      "2022-08-21 14:04:27.204602: I tensorflow/core/grappler/optimizers/custom_graph_optimizer_registry.cc:113] Plugin optimizer for device_type GPU is enabled.\n"
     ]
    },
    {
     "data": {
      "text/plain": [
       "array([[96129.31 ],\n",
       "       [93092.92 ],\n",
       "       [84482.19 ],\n",
       "       ...,\n",
       "       [92906.02 ],\n",
       "       [82712.02 ],\n",
       "       [87188.055]], dtype=float32)"
      ]
     },
     "execution_count": 46,
     "metadata": {},
     "output_type": "execute_result"
    }
   ],
   "source": [
    "reg.predict(X_test)"
   ]
  }
 ],
 "metadata": {
  "kernelspec": {
   "display_name": "Python 3.10.5 ('tf')",
   "language": "python",
   "name": "python3"
  },
  "language_info": {
   "codemirror_mode": {
    "name": "ipython",
    "version": 3
   },
   "file_extension": ".py",
   "mimetype": "text/x-python",
   "name": "python",
   "nbconvert_exporter": "python",
   "pygments_lexer": "ipython3",
   "version": "3.10.5"
  },
  "orig_nbformat": 4,
  "vscode": {
   "interpreter": {
    "hash": "52ee2977380704a66854748a73250e0671a9318bd5b3fd45a3df9f851ae61629"
   }
  }
 },
 "nbformat": 4,
 "nbformat_minor": 2
}
